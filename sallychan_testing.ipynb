{
 "cells": [
  {
   "cell_type": "markdown",
   "id": "373e8998",
   "metadata": {},
   "source": [
    "# Import Library"
   ]
  },
  {
   "cell_type": "code",
   "execution_count": 5,
   "id": "f5a47b15",
   "metadata": {},
   "outputs": [],
   "source": [
    "import tensorflow as tf\n",
    "import numpy as np\n",
    "from tensorflow import keras\n",
    "from tensorflow_transform.tf_metadata import schema_utils\n",
    "from tensorflow_metadata.proto.v0 import schema_pb2\n",
    "import pprint\n",
    "from tensorflow_transform.tf_metadata import dataset_metadata\n",
    "import tensorflow_transform as tft\n",
    "from tensorflow_transform import TFTransformOutput"
   ]
  },
  {
   "cell_type": "markdown",
   "id": "6d561ae3",
   "metadata": {},
   "source": [
    "Insight: \n",
    "* Memanggil library yang dibutuhkan dalam project"
   ]
  },
  {
   "cell_type": "markdown",
   "id": "653543bb",
   "metadata": {},
   "source": [
    "# Load model dari folder output trainer"
   ]
  },
  {
   "cell_type": "code",
   "execution_count": 3,
   "id": "772814cc",
   "metadata": {},
   "outputs": [
    {
     "name": "stderr",
     "output_type": "stream",
     "text": [
      "2025-07-09 12:56:10.484849: I tensorflow/core/platform/cpu_feature_guard.cc:143] Your CPU supports instructions that this TensorFlow binary was not compiled to use: SSE4.1 SSE4.2\n",
      "2025-07-09 12:56:10.540728: I tensorflow/core/platform/profile_utils/cpu_utils.cc:102] CPU Frequency: 2592055000 Hz\n",
      "2025-07-09 12:56:10.546640: I tensorflow/compiler/xla/service/service.cc:168] XLA service 0x555556901780 initialized for platform Host (this does not guarantee that XLA will be used). Devices:\n",
      "2025-07-09 12:56:10.546710: I tensorflow/compiler/xla/service/service.cc:176]   StreamExecutor device (0): Host, Default Version\n"
     ]
    }
   ],
   "source": [
    "model_path = \"pipelines/insurance_pipeline/Trainer/model/15/serving_model_dir\"\n",
    "loaded_model = tf.keras.models.load_model(model_path)\n",
    "tfrecord_path = \"pipelines/insurance_pipeline/Transform/transformed_examples/5/train/transformed_examples-00000-of-00001.gz\""
   ]
  },
  {
   "cell_type": "markdown",
   "id": "e6d5f073",
   "metadata": {},
   "source": [
    "Insight: \n",
    "* Memanggil model yang sudah di export sebelumnya\n",
    "* Serta melakukan path ke file TFRecord hasil Transform"
   ]
  },
  {
   "cell_type": "markdown",
   "id": "063cacab",
   "metadata": {},
   "source": [
    "# Prediksi Model"
   ]
  },
  {
   "cell_type": "code",
   "execution_count": 12,
   "id": "877dfb78",
   "metadata": {},
   "outputs": [],
   "source": [
    "raw_dataset = tf.data.TFRecordDataset(\n",
    "    tf.io.gfile.glob('pipelines/insurance_pipeline/Transform/transformed_examples/5/train/*.gz'),\n",
    "    compression_type='GZIP'\n",
    ")\n",
    "\n",
    "tft_output = tft.TFTransformOutput('pipelines/insurance_pipeline/Transform/transform_graph/5')\n",
    "feature_spec = tft_output.transformed_feature_spec()\n",
    "\n",
    "def parse_example(record):\n",
    "    return tf.io.parse_single_example(record, feature_spec)\n",
    "\n",
    "parsed = raw_dataset.map(parse_example) \n",
    "parsed = parsed.batch(1)"
   ]
  },
  {
   "cell_type": "markdown",
   "id": "d77136b4",
   "metadata": {},
   "source": [
    "Insight:\n",
    "* Membaca dan mem-parse data hasil transformasi dari file TFRecord yang telah di-scale dan di-encode.\n",
    "* Output-nya digunakan sebagai input yang sudah siap untuk dimasukkan ke model prediksi."
   ]
  },
  {
   "cell_type": "code",
   "execution_count": 13,
   "id": "ec76312a",
   "metadata": {},
   "outputs": [],
   "source": [
    "def _dense_cast(x, y):\n",
    "    result = {}\n",
    "    for key, value in x.items():\n",
    "        if isinstance(value, tf.SparseTensor):\n",
    "            value = tf.sparse.to_dense(value)\n",
    "        result[key] = tf.cast(value, tf.float32)\n",
    "\n",
    "    if isinstance(y, tf.SparseTensor):\n",
    "        y = tf.cast(tf.sparse.to_dense(y), tf.float32)\n",
    "    else:\n",
    "        y = tf.cast(y, tf.float32)\n",
    "\n",
    "    return result, y"
   ]
  },
  {
   "cell_type": "markdown",
   "id": "ab03d458",
   "metadata": {},
   "source": [
    "Insight:\n",
    "* Fungsi _dense_cast digunakan untuk mengubah input bertipe SparseTensor menjadi DenseTensor dan bertipe float32.\n",
    "* Hal ini penting agar data bisa diproses dengan baik oleh model Keras saat prediksi."
   ]
  },
  {
   "cell_type": "code",
   "execution_count": 17,
   "id": "628247b5",
   "metadata": {},
   "outputs": [
    {
     "name": "stdout",
     "output_type": "stream",
     "text": [
      "Predicted charges: [[0.2179867]]\n"
     ]
    }
   ],
   "source": [
    "parsed_dataset = parsed.map(lambda x, y: _dense_cast(x, y))\n",
    "for x, y in parsed_dataset.take(1):\n",
    "    input_dict = {k: tf.expand_dims(v, axis=0) for k, v in x.items()}\n",
    "    prediction = loaded_model.predict(input_dict)\n",
    "    print(\"Predicted charges:\", prediction)"
   ]
  },
  {
   "cell_type": "markdown",
   "id": "113de4fa",
   "metadata": {},
   "source": [
    "Insight:\n",
    "* Proses ini melakukan prediksi dengan model terhadap data yang telah ditransformasi.\n",
    "* Data diproses menjadi dictionary (input_dict) yang sesuai format input model, lalu diprediksi dan hasilnya ditampilkan."
   ]
  }
 ],
 "metadata": {
  "kernelspec": {
   "display_name": "Python (docker-tfx)",
   "language": "python",
   "name": "docker-tfx"
  },
  "language_info": {
   "codemirror_mode": {
    "name": "ipython",
    "version": 3
   },
   "file_extension": ".py",
   "mimetype": "text/x-python",
   "name": "python",
   "nbconvert_exporter": "python",
   "pygments_lexer": "ipython3",
   "version": "3.7.17"
  }
 },
 "nbformat": 4,
 "nbformat_minor": 5
}
